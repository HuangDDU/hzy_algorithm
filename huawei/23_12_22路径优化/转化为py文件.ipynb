{
 "cells": [
  {
   "cell_type": "code",
   "execution_count": null,
   "metadata": {},
   "outputs": [],
   "source": [
    "class ProviderOrTransmitter:\n",
    "    def __init__(self) -> None:\n",
    "        self.x = 0\n",
    "        self.y = 0\n",
    "        self.target_vector = [[]]\n",
    "    \n",
    "\n",
    "class ProviderOrTranmitter(ProviderOrTransmitter):\n",
    "    def __init__(self, x, y) -> None:\n",
    "        super().__init__()\n",
    "        self.x = x\n",
    "        self.y = y\n",
    "\n",
    "\n",
    "class Transmitter(ProviderOrTransmitter):\n",
    "    def __init__(self, id, x, y) -> None:\n",
    "        super().__init__()\n",
    "        self.id = id\n",
    "        self.x = x\n",
    "        self.y = y\n",
    "\n",
    "\n",
    "class Consumer():\n",
    "    def __init__(self, id, x, y, code_format) -> None:\n",
    "        self.id = id\n",
    "        self.x = x\n",
    "        self.y = y\n",
    "        self.code_format = code_format\n",
    "\n",
    "\n",
    "class Node():\n",
    "    def __init__(self) -> None:\n",
    "        pass\n",
    "\n",
    "\n",
    "class Map():\n",
    "    def __init__(self) -> None:\n",
    "        pass\n",
    "\n",
    "class controller():\n",
    "    def __init__(self) -> None:\n",
    "        pass\n"
   ]
  },
  {
   "cell_type": "code",
   "execution_count": null,
   "metadata": {},
   "outputs": [],
   "source": [
    "N, M, F, P = input().split()\n",
    "G_matrix = []\n",
    "G_vector = []\n",
    "F_matrix = []\n",
    "I, J = input().split()\n",
    "\n",
    "for i in range(N):\n",
    "    G_matrix[i] = input().split()\n",
    "for i in range(M):\n",
    "    G_vector[i] = input().split()\n",
    "for i in range(F):\n",
    "    F_matrix[i] = input.split()"
   ]
  }
 ],
 "metadata": {
  "language_info": {
   "name": "python"
  }
 },
 "nbformat": 4,
 "nbformat_minor": 2
}
