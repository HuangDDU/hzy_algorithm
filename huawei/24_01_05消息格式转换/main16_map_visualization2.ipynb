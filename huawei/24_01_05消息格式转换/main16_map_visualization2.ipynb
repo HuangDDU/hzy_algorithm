{
 "cells": [
  {
   "cell_type": "code",
   "execution_count": 1,
   "metadata": {},
   "outputs": [],
   "source": [
    "from main16_format_transform import main"
   ]
  },
  {
   "cell_type": "code",
   "execution_count": 2,
   "metadata": {},
   "outputs": [
    {
     "name": "stdout",
     "output_type": "stream",
     "text": [
      "manhattan_scale 52\n",
      "=======================================\n",
      "1 35\n",
      "2 50\n",
      "3 50\n",
      "4 36\n",
      "5 36\n",
      "=======================================\n",
      "4\n",
      "4 0 1 0 1 0 \n",
      "3 0 1 0 2 0 \n",
      "3 1 2 0 3 0 0 4 0 \n",
      "1 1 3 1 1 2 1 2 2 1 3 3 \n",
      "3 4 2 1 4 3 1 5 3 \n",
      "time score: 2.4\n",
      "cost score: 16\n",
      "=======================================\n",
      "657320.1210438232\n"
     ]
    }
   ],
   "source": [
    "# map, provider, consumer_vector, transmitter_vector = main(conf_file=\"../24_01_02考虑转弯代价/main15_other_map1.txt\")\n",
    "# map, provider, consumer_vector, transmitter_vector = main(conf_file=\"../23_12_22路径优化/main7_map_input.txt\")\n",
    "# map, provider, consumer_vector, transmitter_vector = main(conf_file=\"../23_12_22路径优化/main7_map_input_error.txt\")\n",
    "map, provider, consumer_vector, transmitter_vector = main(conf_file=\"main16_format_transform.txt\")"
   ]
  },
  {
   "cell_type": "code",
   "execution_count": 3,
   "metadata": {},
   "outputs": [
    {
     "name": "stdout",
     "output_type": "stream",
     "text": [
      "[[0, 1, 0]]\n",
      "[[0, 2, 0]]\n",
      "[[0, 3, 0], [0, 4, 0]]\n",
      "[[1, 1, 2], [1, 2, 2], [1, 3, 3]]\n",
      "[[1, 4, 3], [1, 5, 3]]\n"
     ]
    },
    {
     "data": {
      "text/plain": [
       "[[((1, 1), (0, 1)), 2],\n",
       " [((1, 1), (1, 0)), 2],\n",
       " [((1, 1), (1, 2)), 3],\n",
       " [((3, 1), (1, 1)), 0],\n",
       " [((3, 4), (2, 4)), 3],\n",
       " [((3, 4), (4, 4)), 3],\n",
       " [((3, 1), (3, 4)), 0],\n",
       " [((3, 0), (3, 1)), 0],\n",
       " [((4, 0), (3, 0)), 0]]"
      ]
     },
     "execution_count": 3,
     "metadata": {},
     "output_type": "execute_result"
    }
   ],
   "source": [
    "edge_list = [] # 其中元素为[[(source_x, source_y), (target_x, target_y)], format]\n",
    "\n",
    "def dfs(map, x, y, provider, consumer_vector, transmitter_vector):\n",
    "    node = map.node_matrix[x][y]\n",
    "    if node.node_type == \"CONSUMER\":\n",
    "        return\n",
    "    else:\n",
    "        source = (x,y)\n",
    "        # 提取分支点的分支列表\n",
    "        if node.node_type == \"PROVIDER\":\n",
    "            target_vector = provider.target_vector\n",
    "        else:\n",
    "            target_vector = transmitter_vector[node.type_id-1].target_vector\n",
    "        print(target_vector)\n",
    "        for target_item in target_vector:\n",
    "            if target_item[0] == 0:\n",
    "                # Transmitter\n",
    "                target_obj = transmitter_vector[target_item[1]-1]\n",
    "                dfs(map, target_obj.x, target_obj.y, provider, consumer_vector, transmitter_vector)\n",
    "            else:\n",
    "                # Consumer\n",
    "                target_obj = consumer_vector[target_item[1]-1]\n",
    "            target = (target_obj.x, target_obj.y)\n",
    "            edge_list.append([(source, target), target_item[2]])\n",
    "\n",
    "# 从Provider开始DFS\n",
    "def dfs_format(map, provider, consumer_vector, transmitter_vector):\n",
    "    dfs(map, provider.x, provider.y, provider, consumer_vector, transmitter_vector)\n",
    "   \n",
    "dfs_format(map, provider, consumer_vector, transmitter_vector)\n",
    "edge_list"
   ]
  },
  {
   "cell_type": "code",
   "execution_count": 4,
   "metadata": {},
   "outputs": [
    {
     "data": {
      "text/plain": [
       "{(1, 1): {'node_type': 'TRANSMITTER', 'label': 'T3'},\n",
       " (0, 1): {'node_type': 'CONSUMER', 'label': 'C1'},\n",
       " (1, 0): {'node_type': 'CONSUMER', 'label': 'C2'},\n",
       " (1, 2): {'node_type': 'CONSUMER', 'label': 'C3'},\n",
       " (3, 1): {'node_type': 'TRANSMITTER', 'label': 'T2'},\n",
       " (3, 4): {'node_type': 'TRANSMITTER', 'label': 'T4'},\n",
       " (2, 4): {'node_type': 'CONSUMER', 'label': 'C4'},\n",
       " (4, 4): {'node_type': 'CONSUMER', 'label': 'C5'},\n",
       " (3, 0): {'node_type': 'TRANSMITTER', 'label': 'T1'},\n",
       " (4, 0): {'node_type': 'PROVIDER', 'label': 'P'}}"
      ]
     },
     "execution_count": 4,
     "metadata": {},
     "output_type": "execute_result"
    }
   ],
   "source": [
    "node_dict = {}\n",
    "for edge in edge_list:\n",
    "    source = edge[0][0]\n",
    "    target = edge[0][1]\n",
    "    if not source in node_dict:\n",
    "        node = map.node_matrix[source[0]][source[1]]\n",
    "        tmp_dict = {}\n",
    "        tmp_dict[\"node_type\"] = node.node_type\n",
    "        tmp_dict[\"label\"] = f\"{node.node_type[0]}{node.type_id if not node.type_id==-1 else ''}\"\n",
    "        node_dict[source] = tmp_dict\n",
    "    if not target in node_dict:\n",
    "        node = map.node_matrix[target[0]][target[1]]\n",
    "        tmp_dict = {}\n",
    "        tmp_dict[\"node_type\"] = node.node_type\n",
    "        tmp_dict[\"label\"] = f\"{node.node_type[0]}{node.type_id}\"\n",
    "        node_dict[target] = tmp_dict\n",
    "node_dict"
   ]
  },
  {
   "cell_type": "code",
   "execution_count": 5,
   "metadata": {},
   "outputs": [
    {
     "data": {
      "image/png": "[encoded data removed]",
      "text/plain": [
       "<Figure size 800x800 with 1 Axes>"
      ]
     },
     "metadata": {},
     "output_type": "display_data"
    }
   ],
   "source": [
    "import matplotlib.pyplot as plt\n",
    "import networkx as nx\n",
    "figure, ax = plt.subplots(figsize=(8,8))\n",
    "\n",
    "# 对象创建\n",
    "G = nx.DiGraph()\n",
    "pos = {}\n",
    "# 添加边\n",
    "for edge in edge_list:\n",
    "    G.add_edge(edge[0][0], edge[0][1], format=edge[1])\n",
    "for k, v in node_dict.items():\n",
    "    G.add_node(k, **v)\n",
    "    pos[k] = (k[1], k[0]) \n",
    "\n",
    "# 结点绘制\n",
    "color_dict = {\n",
    "    \"PROVIDER\" : \"#FF000080\",\n",
    "    \"CONSUMER\" : \"#00FF0080\",\n",
    "    \"TRANSMITTER\" : \"#0000FF80\",\n",
    "}\n",
    "node_color_list = [color_dict[i] for i in nx.get_node_attributes(G, \"node_type\").values()]\n",
    "node_label_dict =  nx.get_node_attributes(G, \"label\")\n",
    "edge_label_dict = nx.get_edge_attributes(G, \"format\")\n",
    "nx.draw(G, pos, node_color=node_color_list, labels=node_label_dict) # 绘制结点\n",
    "nx.draw_networkx_edge_labels(G, pos, edge_labels=edge_label_dict, font_color=\"red\", font_weight=\"bold\") \n",
    "\n",
    "# 网格线设置\n",
    "N = map.N\n",
    "positions = [i-0.5 for i in range(N)]\n",
    "for pos in positions:\n",
    "    ax.axhline(y=pos, color=\"grey\", linestyle=\"--\")\n",
    "    ax.axvline(x=pos, color=\"grey\", linestyle=\"--\")\n",
    "\n",
    "# 网格中单元格代价绘制\n",
    "for i in range(N):\n",
    "    for j in range(N):\n",
    "        node = map.node_matrix[i][j]\n",
    "        text = str(node.weight)\n",
    "        x = node.x-0.3\n",
    "        y = node.y-0.3\n",
    "        ax.text(y, x, text) # 稍微偏移\n",
    "\n",
    "# 刻度设置\n",
    "ax.axis(\"on\")\n",
    "ax.set_xlim(left=-0.5, right=N-0.5) # 设置坐标轴范围，自动设置为整数\n",
    "ax.set_ylim(bottom=N-0.5, top=-0.5)\n",
    "ax.tick_params(left=True, bottom=True, labelleft=True, labelbottom=True)\n",
    "ax.xaxis.tick_top() # 坐标原点移动到左上角\n",
    "plt.show()"
   ]
  }
 ],
 "metadata": {
  "kernelspec": {
   "display_name": "velovi-env",
   "language": "python",
   "name": "python3"
  },
  "language_info": {
   "codemirror_mode": {
    "name": "ipython",
    "version": 3
   },
   "file_extension": ".py",
   "mimetype": "text/x-python",
   "name": "python",
   "nbconvert_exporter": "python",
   "pygments_lexer": "ipython3",
   "version": "3.8.15"
  }
 },
 "nbformat": 4,
 "nbformat_minor": 2
}
