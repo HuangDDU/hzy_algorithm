{
 "cells": [
  {
   "cell_type": "code",
   "execution_count": 10,
   "metadata": {},
   "outputs": [
    {
     "data": {
      "text/plain": [
       "{'0': {'0': {'global': {'now_cpu': 200,\n",
       "    'max_cpu': 200,\n",
       "    'cpu_rate': 1.0,\n",
       "    'now_memory': 256,\n",
       "    'max_memory': 512,\n",
       "    'memory_rate': 0.5}},\n",
       "  '1': {'global': {'now_cpu': 100,\n",
       "    'max_cpu': 200,\n",
       "    'cpu_rate': 0.5,\n",
       "    'now_memory': 128,\n",
       "    'max_memory': 512,\n",
       "    'memory_rate': 0.25}},\n",
       "  '2': {'global': {'now_cpu': 200,\n",
       "    'max_cpu': 200,\n",
       "    'cpu_rate': 1.0,\n",
       "    'now_memory': 256,\n",
       "    'max_memory': 512,\n",
       "    'memory_rate': 0.5}}},\n",
       " '1': {'0': {'global': {'now_cpu': 200,\n",
       "    'max_cpu': 200,\n",
       "    'cpu_rate': 1.0,\n",
       "    'now_memory': 256,\n",
       "    'max_memory': 512,\n",
       "    'memory_rate': 0.5}},\n",
       "  '1': {'global': {'now_cpu': 100,\n",
       "    'max_cpu': 200,\n",
       "    'cpu_rate': 0.5,\n",
       "    'now_memory': 128,\n",
       "    'max_memory': 512,\n",
       "    'memory_rate': 0.25}}},\n",
       " '10': {'0': {'global': {'now_cpu': 200,\n",
       "    'max_cpu': 200,\n",
       "    'cpu_rate': 1.0,\n",
       "    'now_memory': 256,\n",
       "    'max_memory': 512,\n",
       "    'memory_rate': 0.5}},\n",
       "  '1': {'global': {'now_cpu': 200,\n",
       "    'max_cpu': 200,\n",
       "    'cpu_rate': 1.0,\n",
       "    'now_memory': 256,\n",
       "    'max_memory': 512,\n",
       "    'memory_rate': 0.5}}},\n",
       " '11': {}}"
      ]
     },
     "execution_count": 10,
     "metadata": {},
     "output_type": "execute_result"
    }
   ],
   "source": [
    "import json\n",
    "\n",
    "json_file = \"log.json\"\n",
    "with open(json_file, \"r\") as f:\n",
    "    data = json.load(f)\n",
    "data"
   ]
  },
  {
   "cell_type": "code",
   "execution_count": 6,
   "metadata": {},
   "outputs": [
    {
     "name": "stdout",
     "output_type": "stream",
     "text": [
      "[0, 1, 2] [1.0, 0.5, 1.0] [0.5, 0.25, 0.5]\n",
      "[0, 1, 2] [1.0, 0.5, 0] [0.5, 0.25, 0]\n",
      "[0, 1, 2] [1.0, 1.0, 0] [0.5, 0.5, 0]\n"
     ]
    },
    {
     "data": {
      "image/png": "[encoded data removed]",
      "text/plain": [
       "<Figure size 640x480 with 3 Axes>"
      ]
     },
     "metadata": {},
     "output_type": "display_data"
    }
   ],
   "source": [
    "import pandas as pd\n",
    "import seaborn as sns\n",
    "import matplotlib.pyplot as plt\n",
    "\n",
    "timestamp_list = list(data.keys())\n",
    "tmp_data_list = list(data.values())\n",
    "\n",
    "n = len(timestamp_list)\n",
    "max_node_id = max([max([int(j) for j in list(i.keys())]) for i in tmp_data_list[:-1]]) # 最大的node_id\n",
    "fig, ax = plt.subplots(n-1,1)\n",
    "\n",
    "# 遍历所有帧\n",
    "for i in range(n-1):\n",
    "    timestamp = timestamp_list[i]\n",
    "    tmp_data = tmp_data_list[i]\n",
    "    # print(timestamp)\n",
    "    # 数据构造\n",
    "    node_id_list = []\n",
    "    cpu_rate_list = []\n",
    "    memory_rate_list = []\n",
    "    for k, v in tmp_data.items():\n",
    "        node_id_list.append(int(k))\n",
    "        cpu_rate_list.append(v[\"global\"][\"cpu_rate\"])\n",
    "        memory_rate_list.append(v[\"global\"][\"memory_rate\"])\n",
    "    for j in range(max_node_id+1):\n",
    "        if j not in node_id_list:\n",
    "            node_id_list.append(j)\n",
    "            cpu_rate_list.append(0)\n",
    "            memory_rate_list.append(0)\n",
    "    df = pd.DataFrame({\"node_id\": node_id_list,\n",
    "                   \"cpu_rate\": cpu_rate_list,\n",
    "                   \"memory_rate\": memory_rate_list})\n",
    "    # 可视化\n",
    "    sns.barplot(x=\"node_id\", y=\"value\", hue=\"variable\", data=pd.melt(df, [\"node_id\"]), \n",
    "                ax=ax[i], legend=False, palette=[\"#FF0000\", \"#0000FF\"])\n",
    "    ax[i].set_xlabel(\"\")\n",
    "    ax[i].set_ylabel(timestamp)\n",
    "    print(node_id_list, cpu_rate_list, memory_rate_list)\n",
    "        \n",
    "\n",
    "# 展示图形\n",
    "plt.tight_layout()\n",
    "plt.show()"
   ]
  }
 ],
 "metadata": {
  "kernelspec": {
   "display_name": "python38",
   "language": "python",
   "name": "python3"
  },
  "language_info": {
   "codemirror_mode": {
    "name": "ipython",
    "version": 3
   },
   "file_extension": ".py",
   "mimetype": "text/x-python",
   "name": "python",
   "nbconvert_exporter": "python",
   "pygments_lexer": "ipython3",
   "version": "3.8.17"
  }
 },
 "nbformat": 4,
 "nbformat_minor": 2
}
