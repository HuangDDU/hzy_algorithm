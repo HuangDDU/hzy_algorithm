{
 "cells": [
  {
   "cell_type": "code",
   "execution_count": 14,
   "metadata": {},
   "outputs": [],
   "source": [
    "n = 200 \n",
    "char_list_list = [[ '#' for j in range(n)] for i in range(n)] # 先全是障碍\n",
    "# 外面一圈为海洋\n",
    "for i in range(n):\n",
    "    char_list_list[i][0] = '*'\n",
    "    char_list_list[i][n-1] = '*'\n",
    "    char_list_list[0][i] = '*'\n",
    "    char_list_list[n-1][0] = '*'\n",
    "\n",
    "# 1号泊位在上面\n",
    "berth_base = (0, 98)\n",
    "for i in range(4):\n",
    "    for j in range(4):\n",
    "        char_list_list[berth_base[0]+i][berth_base[1]+j] = 'B'\n",
    "# 其他泊位在下面\n",
    "sep = 198//9 # 泊位base的间隔\n",
    "berth_base_list = [(196, 1+i*sep) for i in range(9)]\n",
    "for berth_base in berth_base_list:\n",
    "    for i in range(4):\n",
    "        for j in range(4):\n",
    "            char_list_list[berth_base[0]+i][berth_base[1]+j] = 'B'"
   ]
  },
  {
   "cell_type": "code",
   "execution_count": null,
   "metadata": {},
   "outputs": [],
   "source": [
    "# 挖出来直线一条碰撞的道路，手动设置吧"
   ]
  },
  {
   "cell_type": "code",
   "execution_count": 15,
   "metadata": {},
   "outputs": [],
   "source": [
    "content = \"\"\n",
    "for char_list in char_list_list:\n",
    "    for char in char_list:\n",
    "        content += char\n",
    "    content += '\\n'\n",
    "\n",
    "with open(\"map-conclision.txt\", \"w\") as f:\n",
    "    f.writelines(content)"
   ]
  }
 ],
 "metadata": {
  "kernelspec": {
   "display_name": "velovi-env",
   "language": "python",
   "name": "python3"
  },
  "language_info": {
   "codemirror_mode": {
    "name": "ipython",
    "version": 3
   },
   "file_extension": ".py",
   "mimetype": "text/x-python",
   "name": "python",
   "nbconvert_exporter": "python",
   "pygments_lexer": "ipython3",
   "version": "3.8.15"
  }
 },
 "nbformat": 4,
 "nbformat_minor": 2
}
