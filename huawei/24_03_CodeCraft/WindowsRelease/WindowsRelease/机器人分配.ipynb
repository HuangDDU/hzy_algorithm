{
 "cells": [
  {
   "cell_type": "markdown",
   "metadata": {},
   "source": [
    "使用轮询分配"
   ]
  },
  {
   "cell_type": "code",
   "execution_count": 21,
   "metadata": {},
   "outputs": [],
   "source": [
    "from queue import PriorityQueue\n",
    "MAX_DISTANCE = 40000 # 路径的最大长度，跑遍整张地图路径\n",
    "\n",
    "# 使用轮询，尽可能确保每个都有\n",
    "def get_berth2robot(berth_id_list, distance_list_list):\n",
    "    avalilable_robot_num = 10\n",
    "    # 先剔除掉不可用的机器人\n",
    "    for i in range(10):\n",
    "        flag = False # 该机器人是否可用，只要能到一个berth即可用\n",
    "        for j in range(5):\n",
    "            if distance_list_list[j][i] < MAX_DISTANCE:\n",
    "                flag = True\n",
    "                break\n",
    "        if not flag:\n",
    "            avalilable_robot_num -= 1\n",
    "    print(avalilable_robot_num)\n",
    "    \n",
    "    # 创建队列\n",
    "    distance_priority_queue_list = []\n",
    "    for distance_list in distance_list_list:\n",
    "        q = PriorityQueue()\n",
    "        for i in range(len(distance_list)):\n",
    "            distance = distance_list[i]\n",
    "            if not distance == MAX_DISTANCE:\n",
    "                q.put((distance, i)) # 用距离排序，并保存robot ID\n",
    "        distance_priority_queue_list.append(q)\n",
    "        # print(q.queue)\n",
    "\n",
    "    # 开始轮询，分配机器人给泊位\n",
    "    robot_list_list = [[] for i in range(5)]\n",
    "    selected_set = set()\n",
    "    while not len(selected_set) == avalilable_robot_num:\n",
    "        for i in range(5):\n",
    "            q = distance_priority_queue_list[i]\n",
    "            while not q.empty():\n",
    "                robot_id = q.get()[1]\n",
    "                if robot_id not in selected_set:\n",
    "                    # 本次轮询选中了1个robot\n",
    "                    selected_set.add(robot_id)\n",
    "                    robot_list_list[i].append(robot_id)\n",
    "                    # print(i, robot_id)\n",
    "                    break\n",
    "\n",
    "    berth2robot = dict(zip(berth_id_list, robot_list_list))\n",
    "    return berth2robot"
   ]
  },
  {
   "cell_type": "markdown",
   "metadata": {},
   "source": [
    "map1"
   ]
  },
  {
   "cell_type": "code",
   "execution_count": 22,
   "metadata": {},
   "outputs": [
    {
     "name": "stdout",
     "output_type": "stream",
     "text": [
      "9\n"
     ]
    },
    {
     "data": {
      "text/plain": [
       "{0: [1, 5], 9: [8, 6], 6: [2, 7], 2: [0, 9], 7: [3]}"
      ]
     },
     "execution_count": 22,
     "metadata": {},
     "output_type": "execute_result"
    }
   ],
   "source": [
    "# 选择的泊位ID\n",
    "berth_id_list = [0, 9, 6, 2, 7]\n",
    "\n",
    "# 到达该泊位的所有机器人距离\n",
    "distance_list_list = [\n",
    "    [89, 77, 96, 149, 40000, 153, 208, 189, 260, 213],\n",
    "    [305, 232, 177, 132, 40000, 177, 65, 193, 30, 217],\n",
    "    [210, 129, 74, 147, 40000, 196, 182, 218, 182, 242],\n",
    "    [45, 152, 171, 224, 40000, 211, 283, 247, 335, 271],\n",
    "    [250, 177, 122, 79, 40000, 153, 101, 169, 85, 193]\n",
    "]\n",
    "\n",
    "berth2robot = get_berth2robot(berth_id_list, distance_list_list)\n",
    "berth2robot"
   ]
  },
  {
   "cell_type": "markdown",
   "metadata": {},
   "source": [
    "map3.12"
   ]
  },
  {
   "cell_type": "code",
   "execution_count": 23,
   "metadata": {},
   "outputs": [
    {
     "name": "stdout",
     "output_type": "stream",
     "text": [
      "10\n"
     ]
    },
    {
     "data": {
      "text/plain": [
       "{0: [0], 9: [9, 6], 3: [3], 8: [7, 8, 5], 1: [2, 1, 4]}"
      ]
     },
     "execution_count": 23,
     "metadata": {},
     "output_type": "execute_result"
    }
   ],
   "source": [
    "# 选择的泊位ID\n",
    "berth_id_list = [0, 9, 3, 8, 1]\n",
    "\n",
    "# 到达该泊位的所有机器人距离\n",
    "distance_list_list = [\n",
    "    [55, 40000, 40000, 99, 40000, 40000, 40000, 40000, 40000, 40000],\n",
    "    [40000, 40000, 40000, 40000, 40000, 40000, 100, 40000, 40000, 56],\n",
    "    [59, 40000, 40000, 17, 40000, 40000, 40000, 40000, 40000, 40000],\n",
    "    [40000, 40000, 40000, 40000, 40000, 100, 40000, 44, 56, 40000],\n",
    "    [40000, 55, 44, 40000, 99, 40000, 40000, 40000, 40000, 40000]\n",
    "]\n",
    "\n",
    "berth2robot = get_berth2robot(berth_id_list, distance_list_list)\n",
    "berth2robot"
   ]
  }
 ],
 "metadata": {
  "kernelspec": {
   "display_name": "velovi-env",
   "language": "python",
   "name": "python3"
  },
  "language_info": {
   "codemirror_mode": {
    "name": "ipython",
    "version": 3
   },
   "file_extension": ".py",
   "mimetype": "text/x-python",
   "name": "python",
   "nbconvert_exporter": "python",
   "pygments_lexer": "ipython3",
   "version": "3.8.15"
  }
 },
 "nbformat": 4,
 "nbformat_minor": 2
}
