{
 "cells": [
  {
   "cell_type": "code",
   "execution_count": 32,
   "metadata": {},
   "outputs": [],
   "source": [
    "def get_distance(xi, yi, xj, yj):\n",
    "    return abs(xi-xj)+abs(yi-yj)\n",
    "\n",
    "def get_berth_id_list(berth_pos_list, selected_id=0):\n",
    "    selected_set = {selected_id} # 已经选择的的泊位id集合\n",
    "    to_be_selected_set = set(range(10))-selected_set # 候选的泊位id集合\n",
    "\n",
    "    for k in range(4):\n",
    "        # 从候选集中选择与已选的所有泊位都远的\n",
    "        print(selected_set)\n",
    "        min_distance_list = []\n",
    "        to_be_selected_list = list(to_be_selected_set) # 需要定位索引\n",
    "        for i in to_be_selected_list:\n",
    "            # 取到达已选泊位距离最近的距离值作为候选泊位的距离值\n",
    "            distance_list = []\n",
    "            for j in selected_set:\n",
    "                xi, yi = berth_pos_list[i]\n",
    "                xj, yj = berth_pos_list[j]\n",
    "                distance = get_distance(xi, yi, xj, yj)\n",
    "                distance_list.append(distance)\n",
    "            # print(distance_list)\n",
    "            min_distance = min(distance_list)\n",
    "            # print(min_distance)\n",
    "            min_distance_list.append(min_distance)\n",
    "        print(min_distance_list)\n",
    "        # 距离候选泊位距离值中，选择距离最大的泊位\n",
    "        max_min_distance = max(min_distance_list)\n",
    "        index = min_distance_list.index(max_min_distance)\n",
    "        selected_id = to_be_selected_list[index]\n",
    "        to_be_selected_set.remove(selected_id)\n",
    "        selected_set.add(selected_id)\n",
    "    \n",
    "    berth_id_list = list(selected_set)\n",
    "    print(berth_id_list)\n",
    "\n",
    "    return berth_id_list"
   ]
  },
  {
   "cell_type": "markdown",
   "metadata": {},
   "source": [
    "1. map1"
   ]
  },
  {
   "cell_type": "code",
   "execution_count": 33,
   "metadata": {},
   "outputs": [
    {
     "name": "stdout",
     "output_type": "stream",
     "text": [
      "{0}\n",
      "[48, 75, 43, 66, 80, 106, 224, 242, 279]\n",
      "{0, 9}\n",
      "[48, 75, 43, 66, 80, 106, 55, 37]\n",
      "{0, 9, 6}\n",
      "[48, 75, 43, 40, 26, 55, 37]\n",
      "{0, 9, 2, 6}\n",
      "[27, 43, 40, 26, 55, 37]\n",
      "[0, 2, 6, 7, 9]\n"
     ]
    },
    {
     "data": {
      "text/plain": [
       "[0, 2, 6, 7, 9]"
      ]
     },
     "execution_count": 33,
     "metadata": {},
     "output_type": "execute_result"
    }
   ],
   "source": [
    "# map1\n",
    "berth_pos_list = [\n",
    "    (2, 112),\n",
    "    (2, 160),\n",
    "    (2, 187),\n",
    "    (19, 86),\n",
    "    (28, 72),\n",
    "    (31, 61),\n",
    "    (37, 41),\n",
    "    (116, 2),\n",
    "    (134, 2),\n",
    "    (171, 2),\n",
    "]\n",
    "\n",
    "# 参考；0 2 6 7 9\n",
    "get_berth_id_list(berth_pos_list)"
   ]
  },
  {
   "cell_type": "markdown",
   "metadata": {},
   "source": [
    "3.7"
   ]
  },
  {
   "cell_type": "code",
   "execution_count": 31,
   "metadata": {},
   "outputs": [
    {
     "name": "stdout",
     "output_type": "stream",
     "text": [
      "{0}\n",
      "[29, 28, 82, 128, 230, 266, 241, 206, 176]\n",
      "{0, 6}\n",
      "[29, 28, 82, 128, 62, 37, 72, 136]\n",
      "{0, 9, 6}\n",
      "[29, 28, 82, 128, 62, 37, 64]\n",
      "{0, 9, 4, 6}\n",
      "[29, 28, 46, 62, 37, 64]\n",
      "[0, 4, 6, 8, 9]\n"
     ]
    },
    {
     "data": {
      "text/plain": [
       "[0, 4, 6, 8, 9]"
      ]
     },
     "execution_count": 31,
     "metadata": {},
     "output_type": "execute_result"
    }
   ],
   "source": [
    "# map3.7\n",
    "berth_pos_list = [\n",
    "    (19, 138),\n",
    "    (25, 115),\n",
    "    (27, 158),\n",
    "    (29, 66),\n",
    "    (49, 40),\n",
    "    (123, 12),\n",
    "    (172, 25),\n",
    "    (178, 56),\n",
    "    (178, 91),\n",
    "    (178, 155),\n",
    "]\n",
    "\n",
    "# 参考；1 4 5 7 9\n",
    "get_berth_id_list(berth_pos_list)"
   ]
  },
  {
   "cell_type": "markdown",
   "metadata": {},
   "source": [
    "3.8"
   ]
  },
  {
   "cell_type": "code",
   "execution_count": 36,
   "metadata": {},
   "outputs": [
    {
     "name": "stdout",
     "output_type": "stream",
     "text": [
      "{0}\n",
      "[70, 33, 95, 115, 105, 165, 247, 307, 321]\n",
      "{0, 9}\n",
      "[70, 33, 95, 115, 105, 156, 198, 14]\n",
      "{0, 9, 7}\n",
      "[70, 33, 95, 115, 105, 156, 14]\n",
      "{0, 9, 6, 7}\n",
      "[70, 33, 70, 50, 105, 14]\n",
      "[0, 5, 6, 7, 9]\n"
     ]
    },
    {
     "data": {
      "text/plain": [
       "[0, 5, 6, 7, 9]"
      ]
     },
     "execution_count": 36,
     "metadata": {},
     "output_type": "execute_result"
    }
   ],
   "source": [
    "# map3.8\n",
    "berth_pos_list = [\n",
    "    (4, 64),\n",
    "    (4, 134),\n",
    "    (7, 34),\n",
    "    (11, 152),\n",
    "    (19, 164),\n",
    "    (47, 2),\n",
    "    (47, 186),\n",
    "    (189, 2),\n",
    "    (189, 186),\n",
    "    (195, 194),\n",
    "]\n",
    "\n",
    "# 参考；0 5 6 7 8 \n",
    "get_berth_id_list(berth_pos_list)"
   ]
  },
  {
   "cell_type": "markdown",
   "metadata": {},
   "source": [
    "3.9"
   ]
  },
  {
   "cell_type": "code",
   "execution_count": 35,
   "metadata": {},
   "outputs": [
    {
     "name": "stdout",
     "output_type": "stream",
     "text": [
      "{0}\n",
      "[20, 45, 79, 27, 96, 32, 47, 54, 97]\n",
      "{0, 9}\n",
      "[20, 45, 79, 27, 96, 32, 47, 53]\n",
      "{0, 9, 5}\n",
      "[20, 45, 17, 27, 32, 47, 53]\n",
      "{0, 9, 5, 8}\n",
      "[20, 45, 17, 27, 22, 7]\n",
      "[0, 2, 5, 8, 9]\n"
     ]
    },
    {
     "data": {
      "text/plain": [
       "[0, 2, 5, 8, 9]"
      ]
     },
     "execution_count": 35,
     "metadata": {},
     "output_type": "execute_result"
    }
   ],
   "source": [
    "# map3.9\n",
    "berth_pos_list = [\n",
    "    (60, 66),\n",
    "    (60, 86),\n",
    "    (60, 111),\n",
    "    (69, 136),\n",
    "    (82, 61),\n",
    "    (86, 136),\n",
    "    (87, 61),\n",
    "    (102, 61),\n",
    "    (109, 61),\n",
    "    (136, 87),\n",
    "]\n",
    "\n",
    "# 参考；1 2 4 5 9\n",
    "get_berth_id_list(berth_pos_list)"
   ]
  },
  {
   "cell_type": "markdown",
   "metadata": {},
   "source": [
    "map3.10"
   ]
  },
  {
   "cell_type": "code",
   "execution_count": null,
   "metadata": {},
   "outputs": [
    {
     "name": "stdout",
     "output_type": "stream",
     "text": [
      "{0}\n",
      "[16, 131, 147, 105, 169, 187, 203, 188, 204]\n",
      "{0, 9}\n",
      "[16, 131, 147, 105, 105, 147, 131, 16]\n",
      "{0, 9, 3}\n",
      "[16, 131, 105, 82, 147, 56, 16]\n",
      "{0, 9, 3, 6}\n",
      "[16, 56, 82, 82, 56, 16]\n",
      "[0, 3, 4, 6, 9]\n"
     ]
    },
    {
     "data": {
      "text/plain": [
       "[0, 3, 4, 6, 9]"
      ]
     },
     "metadata": {},
     "output_type": "display_data"
    }
   ],
   "source": [
    "# map3.10\n",
    "berth_pos_list = [\n",
    "    (4, 90),\n",
    "    (4, 106),\n",
    "    (70, 25),\n",
    "    (70, 171),\n",
    "    (74, 55),\n",
    "    (122, 141),\n",
    "    (126, 25),\n",
    "    (126, 171),\n",
    "    (192, 90),\n",
    "    (192, 106),\n",
    "]\n",
    "\n",
    "# 参考；0 1 4 8 9\n",
    "get_berth_id_list(berth_pos_list)"
   ]
  },
  {
   "cell_type": "markdown",
   "metadata": {},
   "source": [
    "map3.11 "
   ]
  },
  {
   "cell_type": "code",
   "execution_count": 23,
   "metadata": {},
   "outputs": [
    {
     "name": "stdout",
     "output_type": "stream",
     "text": [
      "{0}\n",
      "[40, 80, 118, 162, 17, 38, 78, 113, 155]\n",
      "{0, 4}\n",
      "[40, 80, 44, 17, 38, 78, 63, 21]\n",
      "{0, 2, 4}\n",
      "[40, 38, 17, 38, 16, 33, 21]\n",
      "{0, 1, 2, 4}\n",
      "[38, 17, 16, 16, 33, 21]\n",
      "[0, 1, 2, 3, 4]\n"
     ]
    },
    {
     "data": {
      "text/plain": [
       "[0, 1, 2, 3, 4]"
      ]
     },
     "execution_count": 23,
     "metadata": {},
     "output_type": "execute_result"
    }
   ],
   "source": [
    "# map3.11\n",
    "berth_pos_list = [\n",
    "    (94, 20),\n",
    "    (94, 60),\n",
    "    (94, 100),\n",
    "    (94, 138),\n",
    "    (94, 182),\n",
    "    (101, 10),\n",
    "    (101, 51),\n",
    "    (101, 91),\n",
    "    (101, 126),\n",
    "    (101, 168),\n",
    "]\n",
    "\n",
    "# 参考；0 2 4 6 8\n",
    "get_berth_id_list(berth_pos_list)"
   ]
  },
  {
   "cell_type": "markdown",
   "metadata": {},
   "source": [
    "map3.12"
   ]
  },
  {
   "cell_type": "code",
   "execution_count": 29,
   "metadata": {},
   "outputs": [
    {
     "name": "stdout",
     "output_type": "stream",
     "text": [
      "{0}\n",
      "[109, 83, 120, 203, 103, 189, 225, 197, 349]\n",
      "{0, 9}\n",
      "[109, 83, 120, 146, 103, 160, 124, 154]\n",
      "{0, 9, 6}\n",
      "[109, 83, 69, 82, 88, 50, 128]\n",
      "{0, 9, 6, 8}\n",
      "[109, 83, 69, 82, 88, 50]\n",
      "[0, 1, 6, 8, 9]\n"
     ]
    },
    {
     "data": {
      "text/plain": [
       "[0, 1, 6, 8, 9]"
      ]
     },
     "execution_count": 29,
     "metadata": {},
     "output_type": "execute_result"
    }
   ],
   "source": [
    "# map3.12\n",
    "berth_pos_list = [\n",
    "    (0, 43),\n",
    "    (0, 152),\n",
    "    (23, 103),\n",
    "    (67, 96),\n",
    "    (95, 151),\n",
    "    (102, 42),\n",
    "    (129, 103),\n",
    "    (172, 96),\n",
    "    (196, 42),\n",
    "    (196, 196),\n",
    "]\n",
    "\n",
    "# 参考；0 1 5 8 9\n",
    "\n",
    "get_berth_id_list(berth_pos_list)"
   ]
  },
  {
   "cell_type": "markdown",
   "metadata": {},
   "source": [
    "map3.13"
   ]
  },
  {
   "cell_type": "code",
   "execution_count": 30,
   "metadata": {},
   "outputs": [
    {
     "name": "stdout",
     "output_type": "stream",
     "text": [
      "{0}\n",
      "[12, 28, 64, 114, 224, 175, 154, 168, 94]\n",
      "{0, 5}\n",
      "[12, 28, 64, 114, 49, 94, 108, 94]\n",
      "{0, 4, 5}\n",
      "[12, 28, 50, 49, 94, 108, 58]\n",
      "{0, 8, 4, 5}\n",
      "[12, 28, 50, 49, 14, 58]\n",
      "[0, 4, 5, 8, 9]\n"
     ]
    },
    {
     "data": {
      "text/plain": [
       "[0, 4, 5, 8, 9]"
      ]
     },
     "execution_count": 30,
     "metadata": {},
     "output_type": "execute_result"
    }
   ],
   "source": [
    "# map3.13\n",
    "berth_pos_list = [\n",
    "    (6, 98),\n",
    "    (18, 98),\n",
    "    (34, 98),\n",
    "    (48, 120),\n",
    "    (48, 170),\n",
    "    (148, 16),\n",
    "    (148, 65),\n",
    "    (160, 98),\n",
    "    (174, 98),\n",
    "    (9, 189),\n",
    "]\n",
    "\n",
    "# 参考；0 2 5 6 8\n",
    "\n",
    "get_berth_id_list(berth_pos_list)"
   ]
  },
  {
   "cell_type": "code",
   "execution_count": null,
   "metadata": {},
   "outputs": [],
   "source": []
  }
 ],
 "metadata": {
  "kernelspec": {
   "display_name": "velovi-env",
   "language": "python",
   "name": "python3"
  },
  "language_info": {
   "codemirror_mode": {
    "name": "ipython",
    "version": 3
   },
   "file_extension": ".py",
   "mimetype": "text/x-python",
   "name": "python",
   "nbconvert_exporter": "python",
   "pygments_lexer": "ipython3",
   "version": "3.8.15"
  }
 },
 "nbformat": 4,
 "nbformat_minor": 2
}
