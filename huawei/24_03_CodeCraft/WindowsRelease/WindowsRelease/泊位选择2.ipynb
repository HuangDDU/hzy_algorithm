{
 "cells": [
  {
   "cell_type": "code",
   "execution_count": 5,
   "metadata": {},
   "outputs": [],
   "source": [
    "def get_distance(xi, yi, xj, yj):\n",
    "    return abs(xi-xj)+abs(yi-yj)\n",
    "\n",
    "def get_berth_id_list(berth_pos_list, step=4, selected_list=[0], to_be_selected_list=list(range(0, 10))):\n",
    "\n",
    "    for k in range(step):\n",
    "        # 从候选集中选择与已选的所有泊位都远的\n",
    "        print(selected_list)\n",
    "        min_distance_list = []\n",
    "        to_be_selected_list = list(to_be_selected_list) # 需要定位索引\n",
    "        for i in to_be_selected_list:\n",
    "            # 取到达已选泊位距离最近的距离值作为候选泊位的距离值\n",
    "            distance_list = []\n",
    "            for j in selected_list:\n",
    "                xi, yi = berth_pos_list[i]\n",
    "                xj, yj = berth_pos_list[j]\n",
    "                distance = get_distance(xi, yi, xj, yj)\n",
    "                distance_list.append(distance)\n",
    "            min_distance = min(distance_list)\n",
    "            min_distance_list.append(min_distance)\n",
    "        print(min_distance_list)\n",
    "        # 距离候选泊位距离值中，选择距离最大的泊位\n",
    "        max_min_distance = max(min_distance_list)\n",
    "        index = min_distance_list.index(max_min_distance)\n",
    "        selected_id = to_be_selected_list[index]\n",
    "        to_be_selected_list.remove(selected_id)\n",
    "        selected_list.append(selected_id)\n",
    "    \n",
    "    print(selected_list)\n",
    "\n",
    "    return selected_list"
   ]
  },
  {
   "cell_type": "code",
   "execution_count": 6,
   "metadata": {},
   "outputs": [
    {
     "name": "stdout",
     "output_type": "stream",
     "text": [
      "[0]\n",
      "[0, 48, 75, 43, 66, 80, 106, 224, 242, 279]\n",
      "[0, 9]\n",
      "[0, 48, 75, 43, 66, 80, 106, 55, 37]\n",
      "[0, 9, 6]\n",
      "[0, 48, 75, 43, 40, 26, 55, 37]\n",
      "[0, 9, 6, 2]\n",
      "[0, 27, 43, 40, 26, 55, 37]\n",
      "[0, 9, 6, 2, 7]\n"
     ]
    },
    {
     "data": {
      "text/plain": [
       "[0, 9, 6, 2, 7]"
      ]
     },
     "execution_count": 6,
     "metadata": {},
     "output_type": "execute_result"
    }
   ],
   "source": [
    "# map1\n",
    "berth_pos_list = [\n",
    "    (2, 112),\n",
    "    (2, 160),\n",
    "    (2, 187),\n",
    "    (19, 86),\n",
    "    (28, 72),\n",
    "    (31, 61),\n",
    "    (37, 41),\n",
    "    (116, 2),\n",
    "    (134, 2),\n",
    "    (171, 2),\n",
    "]\n",
    "\n",
    "get_berth_id_list(berth_pos_list)"
   ]
  },
  {
   "cell_type": "code",
   "execution_count": 10,
   "metadata": {},
   "outputs": [
    {
     "name": "stdout",
     "output_type": "stream",
     "text": [
      "[0]\n",
      "[0, 29, 28, 82, 128, 230, 266, 241, 206, 176]\n",
      "[0, 6]\n",
      "[0, 29, 28, 82, 128, 62, 37, 72, 136]\n",
      "[0, 6, 9]\n",
      "[0, 29, 28, 82, 128, 62, 37, 64]\n",
      "[0, 6, 9, 4]\n",
      "[0, 29, 28, 46, 62, 37, 64]\n",
      "[0, 6, 9, 4, 8]\n"
     ]
    },
    {
     "data": {
      "text/plain": [
       "[0, 6, 9, 4, 8]"
      ]
     },
     "execution_count": 10,
     "metadata": {},
     "output_type": "execute_result"
    }
   ],
   "source": [
    "# map3.7\n",
    "berth_pos_list = [\n",
    "    (19, 138),\n",
    "    (25, 115),\n",
    "    (27, 158),\n",
    "    (29, 66),\n",
    "    (49, 40),\n",
    "    (123, 12),\n",
    "    (172, 25),\n",
    "    (178, 56),\n",
    "    (178, 91),\n",
    "    (178, 155),\n",
    "]\n",
    "\n",
    "# 参考；1 4 5 7 9\n",
    "selected_list = [0] # 不知道为啥要重新设置\n",
    "to_be_selected_list = list(range(0, 10)) # 不知道为啥要重新设置\n",
    "get_berth_id_list(berth_pos_list, 4, selected_list, to_be_selected_list)"
   ]
  },
  {
   "cell_type": "code",
   "execution_count": 11,
   "metadata": {},
   "outputs": [
    {
     "name": "stdout",
     "output_type": "stream",
     "text": [
      "[0]\n",
      "[0, 70, 33, 95, 115, 105, 165, 247, 307, 321]\n",
      "[0, 9]\n",
      "[0, 70, 33, 95, 115, 105, 156, 198, 14]\n",
      "[0, 9, 7]\n",
      "[0, 70, 33, 95, 115, 105, 156, 14]\n",
      "[0, 9, 7, 6]\n",
      "[0, 70, 33, 70, 50, 105, 14]\n",
      "[0, 9, 7, 6, 5]\n"
     ]
    },
    {
     "data": {
      "text/plain": [
       "[0, 9, 7, 6, 5]"
      ]
     },
     "execution_count": 11,
     "metadata": {},
     "output_type": "execute_result"
    }
   ],
   "source": [
    "# map3.8\n",
    "berth_pos_list = [\n",
    "    (4, 64),\n",
    "    (4, 134),\n",
    "    (7, 34),\n",
    "    (11, 152),\n",
    "    (19, 164),\n",
    "    (47, 2),\n",
    "    (47, 186),\n",
    "    (189, 2),\n",
    "    (189, 186),\n",
    "    (195, 194),\n",
    "]\n",
    "\n",
    "\n",
    "# 参考；0 5 6 7 8 \n",
    "selected_list = [0] # 不知道为啥要重新设置\n",
    "to_be_selected_list = list(range(0, 10)) # 不知道为啥要重新设置\n",
    "get_berth_id_list(berth_pos_list, 4, selected_list, to_be_selected_list)"
   ]
  },
  {
   "cell_type": "code",
   "execution_count": 12,
   "metadata": {},
   "outputs": [
    {
     "name": "stdout",
     "output_type": "stream",
     "text": [
      "[0]\n",
      "[0, 20, 45, 79, 27, 96, 32, 47, 54, 97]\n",
      "[0, 9]\n",
      "[0, 20, 45, 79, 27, 96, 32, 47, 53]\n",
      "[0, 9, 5]\n",
      "[0, 20, 45, 17, 27, 32, 47, 53]\n",
      "[0, 9, 5, 8]\n",
      "[0, 20, 45, 17, 27, 22, 7]\n",
      "[0, 9, 5, 8, 2]\n"
     ]
    },
    {
     "data": {
      "text/plain": [
       "[0, 9, 5, 8, 2]"
      ]
     },
     "execution_count": 12,
     "metadata": {},
     "output_type": "execute_result"
    }
   ],
   "source": [
    "# map3.9\n",
    "berth_pos_list = [\n",
    "    (60, 66),\n",
    "    (60, 86),\n",
    "    (60, 111),\n",
    "    (69, 136),\n",
    "    (82, 61),\n",
    "    (86, 136),\n",
    "    (87, 61),\n",
    "    (102, 61),\n",
    "    (109, 61),\n",
    "    (136, 87),\n",
    "]\n",
    "\n",
    "# 参考；1 2 4 5 9\n",
    "selected_list = [0] # 不知道为啥要重新设置\n",
    "to_be_selected_list = list(range(0, 10)) # 不知道为啥要重新设置\n",
    "get_berth_id_list(berth_pos_list, 4, selected_list, to_be_selected_list)"
   ]
  },
  {
   "cell_type": "code",
   "execution_count": 13,
   "metadata": {},
   "outputs": [
    {
     "name": "stdout",
     "output_type": "stream",
     "text": [
      "[0]\n",
      "[0, 16, 131, 147, 105, 169, 187, 203, 188, 204]\n",
      "[0, 9]\n",
      "[0, 16, 131, 147, 105, 105, 147, 131, 16]\n",
      "[0, 9, 3]\n",
      "[0, 16, 131, 105, 82, 147, 56, 16]\n",
      "[0, 9, 3, 6]\n",
      "[0, 16, 56, 82, 82, 56, 16]\n",
      "[0, 9, 3, 6, 4]\n"
     ]
    },
    {
     "data": {
      "text/plain": [
       "[0, 9, 3, 6, 4]"
      ]
     },
     "execution_count": 13,
     "metadata": {},
     "output_type": "execute_result"
    }
   ],
   "source": [
    "# map3.10\n",
    "berth_pos_list = [\n",
    "    (4, 90),\n",
    "    (4, 106),\n",
    "    (70, 25),\n",
    "    (70, 171),\n",
    "    (74, 55),\n",
    "    (122, 141),\n",
    "    (126, 25),\n",
    "    (126, 171),\n",
    "    (192, 90),\n",
    "    (192, 106),\n",
    "]\n",
    "\n",
    "# 参考；0 1 4 8 9\n",
    "selected_list = [0] # 不知道为啥要重新设置\n",
    "to_be_selected_list = list(range(0, 10)) # 不知道为啥要重新设置\n",
    "get_berth_id_list(berth_pos_list, 4, selected_list, to_be_selected_list)"
   ]
  },
  {
   "cell_type": "code",
   "execution_count": 14,
   "metadata": {},
   "outputs": [
    {
     "name": "stdout",
     "output_type": "stream",
     "text": [
      "[0]\n",
      "[0, 40, 80, 118, 162, 17, 38, 78, 113, 155]\n",
      "[0, 4]\n",
      "[0, 40, 80, 44, 17, 38, 78, 63, 21]\n",
      "[0, 4, 2]\n",
      "[0, 40, 38, 17, 38, 16, 33, 21]\n",
      "[0, 4, 2, 1]\n",
      "[0, 38, 17, 16, 16, 33, 21]\n",
      "[0, 4, 2, 1, 3]\n"
     ]
    },
    {
     "data": {
      "text/plain": [
       "[0, 4, 2, 1, 3]"
      ]
     },
     "execution_count": 14,
     "metadata": {},
     "output_type": "execute_result"
    }
   ],
   "source": [
    "# map3.11\n",
    "berth_pos_list = [\n",
    "    (94, 20),\n",
    "    (94, 60),\n",
    "    (94, 100),\n",
    "    (94, 138),\n",
    "    (94, 182),\n",
    "    (101, 10),\n",
    "    (101, 51),\n",
    "    (101, 91),\n",
    "    (101, 126),\n",
    "    (101, 168),\n",
    "]\n",
    "\n",
    "# 参考；0 2 4 6 8\n",
    "selected_list = [0] # 不知道为啥要重新设置\n",
    "to_be_selected_list = list(range(0, 10)) # 不知道为啥要重新设置\n",
    "get_berth_id_list(berth_pos_list, 4, selected_list, to_be_selected_list)"
   ]
  },
  {
   "cell_type": "code",
   "execution_count": 15,
   "metadata": {},
   "outputs": [
    {
     "name": "stdout",
     "output_type": "stream",
     "text": [
      "[0]\n",
      "[0, 109, 83, 120, 203, 103, 189, 225, 197, 349]\n",
      "[0, 9]\n",
      "[0, 109, 83, 120, 146, 103, 160, 124, 154]\n",
      "[0, 9, 6]\n",
      "[0, 109, 83, 69, 82, 88, 50, 128]\n",
      "[0, 9, 6, 8]\n",
      "[0, 109, 83, 69, 82, 88, 50]\n",
      "[0, 9, 6, 8, 1]\n"
     ]
    },
    {
     "data": {
      "text/plain": [
       "[0, 9, 6, 8, 1]"
      ]
     },
     "execution_count": 15,
     "metadata": {},
     "output_type": "execute_result"
    }
   ],
   "source": [
    "# map3.12\n",
    "berth_pos_list = [\n",
    "    (0, 43),\n",
    "    (0, 152),\n",
    "    (23, 103),\n",
    "    (67, 96),\n",
    "    (95, 151),\n",
    "    (102, 42),\n",
    "    (129, 103),\n",
    "    (172, 96),\n",
    "    (196, 42),\n",
    "    (196, 196),\n",
    "]\n",
    "\n",
    "# 参考；0 1 5 8 9\n",
    "selected_list = [0] # 不知道为啥要重新设置\n",
    "to_be_selected_list = list(range(0, 10)) # 不知道为啥要重新设置\n",
    "get_berth_id_list(berth_pos_list, 4, selected_list, to_be_selected_list)"
   ]
  },
  {
   "cell_type": "code",
   "execution_count": 16,
   "metadata": {},
   "outputs": [
    {
     "name": "stdout",
     "output_type": "stream",
     "text": [
      "[0]\n",
      "[0, 12, 28, 64, 114, 224, 175, 154, 168, 94]\n",
      "[0, 5]\n",
      "[0, 12, 28, 64, 114, 49, 94, 108, 94]\n",
      "[0, 5, 4]\n",
      "[0, 12, 28, 50, 49, 94, 108, 58]\n",
      "[0, 5, 4, 8]\n",
      "[0, 12, 28, 50, 49, 14, 58]\n",
      "[0, 5, 4, 8, 9]\n"
     ]
    },
    {
     "data": {
      "text/plain": [
       "[0, 5, 4, 8, 9]"
      ]
     },
     "execution_count": 16,
     "metadata": {},
     "output_type": "execute_result"
    }
   ],
   "source": [
    "# map3.13\n",
    "berth_pos_list = [\n",
    "    (6, 98),\n",
    "    (18, 98),\n",
    "    (34, 98),\n",
    "    (48, 120),\n",
    "    (48, 170),\n",
    "    (148, 16),\n",
    "    (148, 65),\n",
    "    (160, 98),\n",
    "    (174, 98),\n",
    "    (9, 189),\n",
    "]\n",
    "\n",
    "# 参考；0 2 5 6 8\n",
    "selected_list = [0] # 不知道为啥要重新设置\n",
    "to_be_selected_list = list(range(0, 10)) # 不知道为啥要重新设置\n",
    "get_berth_id_list(berth_pos_list, 4, selected_list, to_be_selected_list)"
   ]
  },
  {
   "cell_type": "code",
   "execution_count": null,
   "metadata": {},
   "outputs": [],
   "source": []
  }
 ],
 "metadata": {
  "kernelspec": {
   "display_name": "velovi-env",
   "language": "python",
   "name": "python3"
  },
  "language_info": {
   "codemirror_mode": {
    "name": "ipython",
    "version": 3
   },
   "file_extension": ".py",
   "mimetype": "text/x-python",
   "name": "python",
   "nbconvert_exporter": "python",
   "pygments_lexer": "ipython3",
   "version": "3.8.15"
  }
 },
 "nbformat": 4,
 "nbformat_minor": 2
}
