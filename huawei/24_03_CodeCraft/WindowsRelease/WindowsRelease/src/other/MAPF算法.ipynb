{
 "cells": [
  {
   "cell_type": "code",
   "execution_count": 2,
   "metadata": {},
   "outputs": [],
   "source": [
    "from cbs_mapf.planner import Planner"
   ]
  },
  {
   "cell_type": "code",
   "execution_count": 8,
   "metadata": {},
   "outputs": [
    {
     "data": {
      "text/plain": [
       "<cbs_mapf.planner.Planner at 0x28b985112b0>"
      ]
     },
     "execution_count": 8,
     "metadata": {},
     "output_type": "execute_result"
    }
   ],
   "source": [
    "# 字典格式的障碍转化为列表格式的障碍\n",
    "def vertices_to_obsts(obsts):\n",
    "        def drawRect(v0, v1):\n",
    "            o = []\n",
    "            base = abs(v0[0] - v1[0])\n",
    "            side = abs(v0[1] - v1[1])\n",
    "            for xx in range(0, base, 30):\n",
    "                o.append((v0[0] + xx, v0[1]))\n",
    "                o.append((v0[0] + xx, v0[1] + side - 1))\n",
    "            o.append((v0[0] + base, v0[1]))\n",
    "            o.append((v0[0] + base, v0[1] + side - 1))\n",
    "            for yy in range(0, side, 30):\n",
    "                o.append((v0[0], v0[1] + yy))\n",
    "                o.append((v0[0] + base - 1, v0[1] + yy))\n",
    "            o.append((v0[0], v0[1] + side))\n",
    "            o.append((v0[0] + base - 1, v0[1] + side))\n",
    "            return o\n",
    "        static_obstacles = []\n",
    "        for vs in obsts.values():\n",
    "            static_obstacles.extend(drawRect(vs[0], vs[1]))\n",
    "        return static_obstacles\n",
    "    \n",
    "grid_size = 30 # 单个网格大小\n",
    "robot_radius = 110  # 半径长度\n",
    "\n",
    "static_obstacles_dict = {\n",
    "    0: [[0, 0], [1919, 1079]],\n",
    "    1: [[576, 277], [741, 389]],\n",
    "    2: [[1154, 275], [1321, 390]],\n",
    "    3: [[578, 718], [739, 827]],\n",
    "    4: [[1153, 716], [1319, 828]]} # 字典格式的障碍\n",
    "\n",
    "static_obstacles = vertices_to_obsts(static_obstacles_dict) # 列表格式的障碍物\n",
    "\n",
    "\n",
    "planner = Planner(grid_size, robot_radius, static_obstacles)\n",
    "planner"
   ]
  },
  {
   "cell_type": "code",
   "execution_count": 10,
   "metadata": {},
   "outputs": [],
   "source": [
    "starts = [\n",
    "    [331, 165],\n",
    "    [1530, 165],\n",
    "    [315, 951],\n",
    "    [1530, 951]\n",
    "         ]\n",
    "goals = [\n",
    "    [540, 565],\n",
    "    [835, 565],\n",
    "    [1080, 565],\n",
    "    [1370, 565]\n",
    "        ]\n",
    "path = planner.plan(starts, goals)"
   ]
  },
  {
   "cell_type": "code",
   "execution_count": 11,
   "metadata": {},
   "outputs": [
    {
     "data": {
      "text/plain": [
       "array([[[ 345,  165],\n",
       "        [ 375,  195],\n",
       "        [ 405,  225],\n",
       "        [ 435,  255],\n",
       "        [ 465,  285],\n",
       "        [ 465,  315],\n",
       "        [ 465,  345],\n",
       "        [ 465,  375],\n",
       "        [ 465,  405],\n",
       "        [ 465,  435],\n",
       "        [ 495,  465],\n",
       "        [ 525,  495],\n",
       "        [ 555,  525],\n",
       "        [ 585,  525],\n",
       "        [ 615,  555],\n",
       "        [ 645,  555],\n",
       "        [ 675,  555],\n",
       "        [ 705,  555],\n",
       "        [ 735,  555],\n",
       "        [ 765,  555],\n",
       "        [ 795,  555],\n",
       "        [ 825,  555],\n",
       "        [ 825,  555],\n",
       "        [ 825,  555],\n",
       "        [ 825,  555],\n",
       "        [ 825,  555],\n",
       "        [ 825,  555],\n",
       "        [ 825,  555],\n",
       "        [ 825,  555],\n",
       "        [ 825,  555],\n",
       "        [ 825,  555]],\n",
       "\n",
       "       [[1545,  165],\n",
       "        [1515,  195],\n",
       "        [1485,  225],\n",
       "        [1455,  255],\n",
       "        [1455,  285],\n",
       "        [1455,  315],\n",
       "        [1455,  345],\n",
       "        [1485,  375],\n",
       "        [1515,  405],\n",
       "        [1545,  435],\n",
       "        [1575,  465],\n",
       "        [1605,  495],\n",
       "        [1635,  525],\n",
       "        [1635,  555],\n",
       "        [1635,  555],\n",
       "        [1635,  555],\n",
       "        [1635,  555],\n",
       "        [1635,  555],\n",
       "        [1635,  555],\n",
       "        [1605,  555],\n",
       "        [1575,  555],\n",
       "        [1575,  555],\n",
       "        [1575,  555],\n",
       "        [1575,  555],\n",
       "        [1545,  555],\n",
       "        [1515,  555],\n",
       "        [1485,  555],\n",
       "        [1455,  555],\n",
       "        [1425,  555],\n",
       "        [1395,  555],\n",
       "        [1365,  555]],\n",
       "\n",
       "       [[ 315,  945],\n",
       "        [ 345,  915],\n",
       "        [ 375,  885],\n",
       "        [ 405,  855],\n",
       "        [ 435,  825],\n",
       "        [ 465,  795],\n",
       "        [ 465,  765],\n",
       "        [ 465,  735],\n",
       "        [ 465,  705],\n",
       "        [ 465,  675],\n",
       "        [ 465,  705],\n",
       "        [ 465,  735],\n",
       "        [ 465,  735],\n",
       "        [ 465,  735],\n",
       "        [ 465,  735],\n",
       "        [ 465,  735],\n",
       "        [ 465,  735],\n",
       "        [ 465,  735],\n",
       "        [ 465,  735],\n",
       "        [ 465,  705],\n",
       "        [ 465,  675],\n",
       "        [ 465,  645],\n",
       "        [ 495,  615],\n",
       "        [ 525,  585],\n",
       "        [ 555,  555],\n",
       "        [ 555,  555],\n",
       "        [ 555,  555],\n",
       "        [ 555,  555],\n",
       "        [ 555,  555],\n",
       "        [ 555,  555],\n",
       "        [ 555,  555]],\n",
       "\n",
       "       [[1545,  945],\n",
       "        [1515,  915],\n",
       "        [1485,  885],\n",
       "        [1455,  855],\n",
       "        [1455,  825],\n",
       "        [1455,  795],\n",
       "        [1455,  765],\n",
       "        [1455,  735],\n",
       "        [1455,  705],\n",
       "        [1425,  675],\n",
       "        [1425,  645],\n",
       "        [1395,  615],\n",
       "        [1365,  585],\n",
       "        [1335,  555],\n",
       "        [1305,  555],\n",
       "        [1275,  555],\n",
       "        [1245,  555],\n",
       "        [1215,  555],\n",
       "        [1185,  555],\n",
       "        [1155,  555],\n",
       "        [1125,  555],\n",
       "        [1095,  555],\n",
       "        [1095,  555],\n",
       "        [1095,  555],\n",
       "        [1095,  555],\n",
       "        [1095,  555],\n",
       "        [1095,  555],\n",
       "        [1095,  555],\n",
       "        [1095,  555],\n",
       "        [1095,  555],\n",
       "        [1095,  555]]])"
      ]
     },
     "execution_count": 11,
     "metadata": {},
     "output_type": "execute_result"
    }
   ],
   "source": [
    "path"
   ]
  },
  {
   "cell_type": "code",
   "execution_count": 12,
   "metadata": {},
   "outputs": [
    {
     "data": {
      "text/plain": [
       "(4, 31, 2)"
      ]
     },
     "execution_count": 12,
     "metadata": {},
     "output_type": "execute_result"
    }
   ],
   "source": [
    "path.shape"
   ]
  },
  {
   "cell_type": "code",
   "execution_count": null,
   "metadata": {},
   "outputs": [],
   "source": []
  }
 ],
 "metadata": {
  "kernelspec": {
   "display_name": "Python 3 (ipykernel)",
   "language": "python",
   "name": "python3"
  },
  "language_info": {
   "codemirror_mode": {
    "name": "ipython",
    "version": 3
   },
   "file_extension": ".py",
   "mimetype": "text/x-python",
   "name": "python",
   "nbconvert_exporter": "python",
   "pygments_lexer": "ipython3",
   "version": "3.8.15"
  }
 },
 "nbformat": 4,
 "nbformat_minor": 2
}
