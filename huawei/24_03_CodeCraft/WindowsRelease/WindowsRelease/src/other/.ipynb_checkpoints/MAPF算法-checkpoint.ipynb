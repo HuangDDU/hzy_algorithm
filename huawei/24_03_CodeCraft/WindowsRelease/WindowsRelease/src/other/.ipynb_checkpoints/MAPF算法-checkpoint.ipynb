{
 "cells": [
  {
   "cell_type": "code",
   "execution_count": 2,
   "metadata": {},
   "outputs": [],
   "source": [
    "from cbs_mapf.planner import Planner"
   ]
  },
  {
   "cell_type": "code",
   "execution_count": 8,
   "metadata": {},
   "outputs": [
    {
     "data": {
      "text/plain": [
       "<cbs_mapf.planner.Planner at 0x28b985112b0>"
      ]
     },
     "execution_count": 8,
     "metadata": {},
     "output_type": "execute_result"
    }
   ],
   "source": [
    "# 字典格式的障碍转化为列表格式的障碍\n",
    "def vertices_to_obsts(obsts):\n",
    "        def drawRect(v0, v1):\n",
    "            o = []\n",
    "            base = abs(v0[0] - v1[0])\n",
    "            side = abs(v0[1] - v1[1])\n",
    "            for xx in range(0, base, 30):\n",
    "                o.append((v0[0] + xx, v0[1]))\n",
    "                o.append((v0[0] + xx, v0[1] + side - 1))\n",
    "            o.append((v0[0] + base, v0[1]))\n",
    "            o.append((v0[0] + base, v0[1] + side - 1))\n",
    "            for yy in range(0, side, 30):\n",
    "                o.append((v0[0], v0[1] + yy))\n",
    "                o.append((v0[0] + base - 1, v0[1] + yy))\n",
    "            o.append((v0[0], v0[1] + side))\n",
    "            o.append((v0[0] + base - 1, v0[1] + side))\n",
    "            return o\n",
    "        static_obstacles = []\n",
    "        for vs in obsts.values():\n",
    "            static_obstacles.extend(drawRect(vs[0], vs[1]))\n",
    "        return static_obstacles\n",
    "    \n",
    "grid_size = 30 # 单个网格大小\n",
    "robot_radius = 110  # 半径长度\n",
    "\n",
    "static_obstacles_dict = {\n",
    "    0: [[0, 0], [1919, 1079]],\n",
    "    1: [[576, 277], [741, 389]],\n",
    "    2: [[1154, 275], [1321, 390]],\n",
    "    3: [[578, 718], [739, 827]],\n",
    "    4: [[1153, 716], [1319, 828]]} # 字典格式的障碍\n",
    "\n",
    "static_obstacles = vertices_to_obsts(static_obstacles_dict) # 列表格式的障碍物\n",
    "\n",
    "\n",
    "planner = Planner(grid_size, robot_radius, static_obstacles)\n",
    "planner"
   ]
  },
  {
   "cell_type": "code",
   "execution_count": null,
   "metadata": {},
   "outputs": [],
   "source": [
    "starts = [\n",
    "    [331, 165],\n",
    "    [1530, 165],\n",
    "    [315, 951],\n",
    "    [1530, 951]\n",
    "         ]\n",
    "goals = [\n",
    "    [540, 565],\n",
    "    [835, 565],\n",
    "    [1080, 565],\n",
    "    [1370, 565]\n",
    "        ]\n",
    "path = planner.plan(starts, goals)"
   ]
  },
  {
   "cell_type": "code",
   "execution_count": null,
   "metadata": {},
   "outputs": [],
   "source": []
  }
 ],
 "metadata": {
  "kernelspec": {
   "display_name": "Python 3 (ipykernel)",
   "language": "python",
   "name": "python3"
  },
  "language_info": {
   "codemirror_mode": {
    "name": "ipython",
    "version": 3
   },
   "file_extension": ".py",
   "mimetype": "text/x-python",
   "name": "python",
   "nbconvert_exporter": "python",
   "pygments_lexer": "ipython3",
   "version": "3.8.15"
  }
 },
 "nbformat": 4,
 "nbformat_minor": 2
}
